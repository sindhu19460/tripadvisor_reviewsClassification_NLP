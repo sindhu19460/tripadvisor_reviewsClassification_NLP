{
 "cells": [
  {
   "cell_type": "code",
   "execution_count": 19,
   "metadata": {},
   "outputs": [],
   "source": [
    "import pandas as pd\n",
    "import numpy as np\n",
    "import matplotlib.pyplot as plt\n",
    "from sklearn.feature_extraction.text import CountVectorizer\n",
    "from imblearn.over_sampling import SMOTE\n",
    "from sklearn.model_selection import train_test_split\n",
    "from sklearn.ensemble import RandomForestClassifier\n",
    "from sklearn.metrics import accuracy_score,recall_score,classification_report,confusion_matrix,roc_curve, roc_auc_score,auc\n",
    "import sklearn.metrics as metrics"
   ]
  },
  {
   "cell_type": "code",
   "execution_count": 20,
   "metadata": {},
   "outputs": [],
   "source": [
    "data = pd.read_csv(\"model.csv\")"
   ]
  },
  {
   "cell_type": "code",
   "execution_count": 21,
   "metadata": {},
   "outputs": [
    {
     "name": "stdout",
     "output_type": "stream",
     "text": [
      "Data Head\n",
      "                                               Review    Label\n",
      "0  may sound noisi initi find good place bar nois...  Postive\n",
      "1  good burger atmospher uniqu expect hard rock m...  Postive\n",
      "2  pre arrang breakfast peopl open us normal open...  Postive\n",
      "3  nice decor share platter crumb chicken spring ...  Postive\n",
      "4  great hard rock never bad countri favourit far...  Postive\n"
     ]
    }
   ],
   "source": [
    "print(\"Data Head\\n\",data.head())"
   ]
  },
  {
   "cell_type": "code",
   "execution_count": 22,
   "metadata": {},
   "outputs": [
    {
     "name": "stdout",
     "output_type": "stream",
     "text": [
      "Data Describe\n",
      "                                                    Review    Label\n",
      "count                                                3062     3062\n",
      "unique                                               1543        3\n",
      "top     visit son whilst break birthday price reason c...  Postive\n",
      "freq                                                    3     2742\n"
     ]
    }
   ],
   "source": [
    "print(\"Data Describe\\n\", data.describe())"
   ]
  },
  {
   "cell_type": "code",
   "execution_count": 23,
   "metadata": {},
   "outputs": [
    {
     "name": "stdout",
     "output_type": "stream",
     "text": [
      "Data Shape\n",
      " (3062, 2)\n"
     ]
    }
   ],
   "source": [
    "print(\"Data Shape\\n\",data.shape)"
   ]
  },
  {
   "cell_type": "code",
   "execution_count": 24,
   "metadata": {},
   "outputs": [
    {
     "name": "stdout",
     "output_type": "stream",
     "text": [
      "Data Label Count\n",
      "\n",
      " Postive     2742\n",
      "Negative     173\n",
      "Neutral      147\n",
      "Name: Label, dtype: int64\n"
     ]
    }
   ],
   "source": [
    "print(\"Data Label Count\\n\\n\", data[\"Label\"].value_counts())"
   ]
  },
  {
   "cell_type": "markdown",
   "metadata": {},
   "source": [
    "# Data is imbalance"
   ]
  },
  {
   "cell_type": "code",
   "execution_count": 25,
   "metadata": {},
   "outputs": [
    {
     "data": {
      "image/png": "[encoded data removed]",
      "text/plain": [
       "<Figure size 432x288 with 1 Axes>"
      ]
     },
     "metadata": {
      "needs_background": "light"
     },
     "output_type": "display_data"
    }
   ],
   "source": [
    "plt.hist(data.Label)\n",
    "plt.title(\"Checking Data is balanced or Not, using hist\",fontweight =\"bold\")\n",
    "plt.show()"
   ]
  },
  {
   "cell_type": "markdown",
   "metadata": {},
   "source": [
    "# CountVectorizer\n",
    "\n",
    "#### The CountVectorizer provides a simple way to both tokenize a collection of text documents and build a vocabulary of known words, but also to encode new documents using that vocabulary. You can use it as follows: Create an instance of the CountVectorizer class"
   ]
  },
  {
   "cell_type": "code",
   "execution_count": 31,
   "metadata": {},
   "outputs": [],
   "source": [
    "count_vect = CountVectorizer(max_features = 3000)\n",
    "x = count_vect.fit_transform(data['Review'])"
   ]
  },
  {
   "cell_type": "code",
   "execution_count": 32,
   "metadata": {},
   "outputs": [
    {
     "name": "stdout",
     "output_type": "stream",
     "text": [
      "count_vector shape\n",
      "\n",
      " (3062, 2424)\n"
     ]
    }
   ],
   "source": [
    "print(\"count_vector shape\\n\\n\",x.shape)"
   ]
  },
  {
   "cell_type": "markdown",
   "metadata": {},
   "source": [
    "# # SMOTE - Synthetic Minority Oversampling Technique\n",
    "\n",
    "##### way to solve this problem is to oversample the examples in the minority class. This can be achieved by simply duplicating examples from the minority class in the training dataset prior to fitting a model. This can balance the class distribution but does not provide any additional information to the model."
   ]
  },
  {
   "cell_type": "code",
   "execution_count": 33,
   "metadata": {},
   "outputs": [],
   "source": [
    "over_sample = SMOTE(random_state = 42, sampling_strategy = \"all\")"
   ]
  },
  {
   "cell_type": "code",
   "execution_count": 34,
   "metadata": {},
   "outputs": [],
   "source": [
    "X_train_oversample, y_train_oversample = over_sample.fit_sample(x,data['Label'])"
   ]
  },
  {
   "cell_type": "code",
   "execution_count": 35,
   "metadata": {},
   "outputs": [
    {
     "name": "stdout",
     "output_type": "stream",
     "text": [
      "y_Train over sample \n",
      "\n",
      " Postive     2742\n",
      "Neutral     2742\n",
      "Negative    2742\n",
      "Name: Label, dtype: int64\n"
     ]
    }
   ],
   "source": [
    "print(\"y_Train over sample \\n\\n\", y_train_oversample.value_counts())"
   ]
  },
  {
   "cell_type": "code",
   "execution_count": 36,
   "metadata": {},
   "outputs": [
    {
     "name": "stdout",
     "output_type": "stream",
     "text": [
      "x_train over sample (8226, 2424)\n"
     ]
    }
   ],
   "source": [
    "print(\"x_train over sample\", X_train_oversample.shape)"
   ]
  },
  {
   "cell_type": "code",
   "execution_count": 37,
   "metadata": {},
   "outputs": [
    {
     "data": {
      "image/png": "[encoded data removed]",
      "text/plain": [
       "<Figure size 432x288 with 1 Axes>"
      ]
     },
     "metadata": {
      "needs_background": "light"
     },
     "output_type": "display_data"
    }
   ],
   "source": [
    "colors = ['lime'] \n",
    "  \n",
    "plt.hist(y_train_oversample, \n",
    "         density = True,  \n",
    "         histtype ='barstacked', \n",
    "         color = colors)  \n",
    "  \n",
    "plt.title('balanced Data\\n\\n', \n",
    "          fontweight =\"bold\") \n",
    "  \n",
    "plt.show()"
   ]
  },
  {
   "cell_type": "code",
   "execution_count": 38,
   "metadata": {},
   "outputs": [],
   "source": [
    "x_train,x_test,y_train,y_test = train_test_split(X_train_oversample, y_train_oversample, test_size = 0.3, random_state = 42)"
   ]
  },
  {
   "cell_type": "code",
   "execution_count": 39,
   "metadata": {},
   "outputs": [
    {
     "name": "stdout",
     "output_type": "stream",
     "text": [
      "X_train shape= (5758, 2424) \n",
      " y_train shape= (5758,)\n",
      "x_test shape= (2468, 2424) \n",
      " Y_test shape= (2468,)\n"
     ]
    }
   ],
   "source": [
    "print(\"X_train shape=\",x_train.shape,'\\n',\"y_train shape=\",y_train.shape)\n",
    "print(\"x_test shape=\",x_test.shape,'\\n',\"Y_test shape=\" ,y_test.shape)"
   ]
  },
  {
   "cell_type": "markdown",
   "metadata": {},
   "source": [
    "\n",
    "# Random_Forest_Classifiers"
   ]
  },
  {
   "cell_type": "code",
   "execution_count": 40,
   "metadata": {},
   "outputs": [
    {
     "data": {
      "text/plain": [
       "RandomForestClassifier(n_estimators=120, n_jobs=-1, random_state=50)"
      ]
     },
     "execution_count": 40,
     "metadata": {},
     "output_type": "execute_result"
    }
   ],
   "source": [
    "RF = RandomForestClassifier(n_estimators = 120,\n",
    "                           random_state = 50,\n",
    "                           n_jobs = -1,\n",
    "                           max_features = 'auto')\n",
    "RF.fit(X_train_oversample,y_train_oversample)"
   ]
  },
  {
   "cell_type": "code",
   "execution_count": 41,
   "metadata": {},
   "outputs": [],
   "source": [
    "rf_pred = RF.predict(x_test)"
   ]
  },
  {
   "cell_type": "code",
   "execution_count": 42,
   "metadata": {},
   "outputs": [
    {
     "name": "stdout",
     "output_type": "stream",
     "text": [
      "Recall= 0.9902755267423015 \n",
      "\n",
      "Accuracy of Random forest classifier= 0.9902755267423015 \n",
      "\n",
      "Classification Report:\n",
      "               precision    recall  f1-score   support\n",
      "\n",
      "    Negative       0.99      0.98      0.98       804\n",
      "     Neutral       0.98      0.99      0.99       821\n",
      "     Postive       1.00      1.00      1.00       843\n",
      "\n",
      "    accuracy                           0.99      2468\n",
      "   macro avg       0.99      0.99      0.99      2468\n",
      "weighted avg       0.99      0.99      0.99      2468\n",
      " \n",
      "\n",
      "Confusion Matrix \n",
      " [[788  16   0]\n",
      " [  8 813   0]\n",
      " [  0   0 843]] \n",
      "\n"
     ]
    }
   ],
   "source": [
    "print(\"Recall=\",recall_score(y_test, rf_pred, average='micro'),'\\n')\n",
    "print(\"Accuracy of Random forest classifier=\", accuracy_score(y_test,rf_pred),'\\n')\n",
    "print(\"Classification Report:\\n\", classification_report(y_test,rf_pred),'\\n')\n",
    "print(\"Confusion Matrix \\n\", confusion_matrix(y_test,rf_pred),'\\n')"
   ]
  },
  {
   "cell_type": "markdown",
   "metadata": {},
   "source": [
    "# Everything goes good in Random_Forest_classifiers therefore we used RF for deployment part\n",
    "\n",
    "# challenge We faced in project\n",
    " 1) Extracting the reviews from Trip Advisore.\n",
    " 2) everything went goodin EDA part.\n",
    " 3) when we enters to a Model_building part , data is imablanced we used to undersample and oversample method and we balanced the data.\n",
    " we good a "
   ]
  }
 ],
 "metadata": {
  "kernelspec": {
   "display_name": "Python 3",
   "language": "python",
   "name": "python3"
  },
  "language_info": {
   "codemirror_mode": {
    "name": "ipython",
    "version": 3
   },
   "file_extension": ".py",
   "mimetype": "text/x-python",
   "name": "python",
   "nbconvert_exporter": "python",
   "pygments_lexer": "ipython3",
   "version": "3.8.5"
  }
 },
 "nbformat": 4,
 "nbformat_minor": 4
}
